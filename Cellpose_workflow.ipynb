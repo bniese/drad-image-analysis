{
 "cells": [
  {
   "cell_type": "code",
   "execution_count": 1,
   "id": "89415dfb-fab5-4d60-9478-d598f3f82bf1",
   "metadata": {},
   "outputs": [
    {
     "name": "stderr",
     "output_type": "stream",
     "text": [
      "C:\\Users\\14194\\anaconda3\\envs\\cellpose\\lib\\site-packages\\skimage\\io\\manage_plugins.py:23: UserWarning: Your installed pillow version is < 8.1.2. Several security issues (CVE-2021-27921, CVE-2021-25290, CVE-2021-25291, CVE-2021-25293, and more) have been fixed in pillow 8.1.2 or higher. We recommend to upgrade this library.\n",
      "  from .collection import imread_collection_wrapper\n"
     ]
    }
   ],
   "source": [
    "import numpy as np\n",
    "from cellpose import utils, io\n",
    "from cellpose import models\n",
    "import skimage.io\n",
    "from cellpose import plot\n",
    "import os\n",
    "import cv2\n",
    "from image_slicer import slice\n",
    "from image_slicer import join\n",
    "\n",
    "import pandas as pd\n",
    "\n",
    "from scipy import stats\n",
    "\n",
    "from glob import glob\n",
    "\n",
    "from skimage.segmentation import clear_border\n",
    "from skimage.measure import label, regionprops\n",
    "import re"
   ]
  },
  {
   "cell_type": "markdown",
   "id": "b2ae0b07-ee7d-45bf-bc29-070bbf4df12e",
   "metadata": {},
   "source": []
  },
  {
   "cell_type": "code",
   "execution_count": 2,
   "id": "94a52f73-3cfd-467f-9643-5ab1377e7f22",
   "metadata": {},
   "outputs": [],
   "source": [
    "#first we will create a composite image of all the combination of images in cellpose \n",
    "membrane_list=[]\n",
    "nuclei_list=[]\n",
    "input_dir=r'C:\\Users\\14194\\Documents\\08222023_DR1116_0k\\Images'\n",
    "\n",
    "\n",
    "\n",
    "\n",
    "for r, d, f in os.walk(input_dir):\n",
    "    for fil in f:\n",
    "        if fil.endswith('mem.tif'): #whatever string signifies the end sequence of your membrane file, in this case\"mem\"\n",
    "            membrane_list.append(os.path.join(input_dir, fil))\n",
    "        elif fil.endswith('nuc.tif'):\n",
    "            nuclei_list.append(os.path.join(input_dir, fil)) #nuclei is whatever files dont make first criteria\n",
    "#now we will create a composite image for better cell predictions\n",
    "\n"
   ]
  },
  {
   "cell_type": "code",
   "execution_count": 3,
   "id": "beb92ff4-1f58-45fb-94f3-f772b8958093",
   "metadata": {},
   "outputs": [
    {
     "name": "stdout",
     "output_type": "stream",
     "text": [
      "27\n",
      "27\n"
     ]
    }
   ],
   "source": [
    "nuclei_list.sort()\n",
    "membrane_list.sort()\n"
   ]
  },
  {
   "cell_type": "code",
   "execution_count": null,
   "id": "e2360b32-f692-489e-9a19-22ce31442c4e",
   "metadata": {
    "tags": []
   },
   "outputs": [],
   "source": []
  },
  {
   "cell_type": "code",
   "execution_count": 4,
   "id": "d5f6ed7f-cc52-4cab-8bdb-8bfff3112ca0",
   "metadata": {
    "collapsed": true,
    "jupyter": {
     "outputs_hidden": true
    },
    "tags": []
   },
   "outputs": [
    {
     "name": "stderr",
     "output_type": "stream",
     "text": [
      "C:\\Users\\14194\\AppData\\Local\\Temp\\ipykernel_23904\\332382765.py:10: UserWarning: C:\\Users\\14194\\Documents\\08222023_DR1116_0k\\Composites\\08222023_DR1116_0k_A_2__composite.tif is a low contrast image\n",
      "  skimage.io.imsave(composite_output,composite)\n",
      "C:\\Users\\14194\\AppData\\Local\\Temp\\ipykernel_23904\\332382765.py:10: UserWarning: C:\\Users\\14194\\Documents\\08222023_DR1116_0k\\Composites\\08222023_DR1116_0k_B_1__composite.tif is a low contrast image\n",
      "  skimage.io.imsave(composite_output,composite)\n",
      "C:\\Users\\14194\\AppData\\Local\\Temp\\ipykernel_23904\\332382765.py:10: UserWarning: C:\\Users\\14194\\Documents\\08222023_DR1116_0k\\Composites\\08222023_DR1116_0k_B_2__composite.tif is a low contrast image\n",
      "  skimage.io.imsave(composite_output,composite)\n",
      "C:\\Users\\14194\\AppData\\Local\\Temp\\ipykernel_23904\\332382765.py:10: UserWarning: C:\\Users\\14194\\Documents\\08222023_DR1116_0k\\Composites\\08222023_DR1116_0k_B_3__composite.tif is a low contrast image\n",
      "  skimage.io.imsave(composite_output,composite)\n",
      "C:\\Users\\14194\\AppData\\Local\\Temp\\ipykernel_23904\\332382765.py:10: UserWarning: C:\\Users\\14194\\Documents\\08222023_DR1116_0k\\Composites\\08222023_DR1116_0k_C_1__composite.tif is a low contrast image\n",
      "  skimage.io.imsave(composite_output,composite)\n",
      "C:\\Users\\14194\\AppData\\Local\\Temp\\ipykernel_23904\\332382765.py:10: UserWarning: C:\\Users\\14194\\Documents\\08222023_DR1116_0k\\Composites\\08222023_DR1116_0k_C_2__composite.tif is a low contrast image\n",
      "  skimage.io.imsave(composite_output,composite)\n",
      "C:\\Users\\14194\\AppData\\Local\\Temp\\ipykernel_23904\\332382765.py:10: UserWarning: C:\\Users\\14194\\Documents\\08222023_DR1116_0k\\Composites\\08222023_DR1116_0k_C_3__composite.tif is a low contrast image\n",
      "  skimage.io.imsave(composite_output,composite)\n",
      "C:\\Users\\14194\\AppData\\Local\\Temp\\ipykernel_23904\\332382765.py:10: UserWarning: C:\\Users\\14194\\Documents\\08222023_DR1116_0k\\Composites\\08222023_DR1116_0k_D_1__composite.tif is a low contrast image\n",
      "  skimage.io.imsave(composite_output,composite)\n",
      "C:\\Users\\14194\\AppData\\Local\\Temp\\ipykernel_23904\\332382765.py:10: UserWarning: C:\\Users\\14194\\Documents\\08222023_DR1116_0k\\Composites\\08222023_DR1116_0k_D_2__composite.tif is a low contrast image\n",
      "  skimage.io.imsave(composite_output,composite)\n",
      "C:\\Users\\14194\\AppData\\Local\\Temp\\ipykernel_23904\\332382765.py:10: UserWarning: C:\\Users\\14194\\Documents\\08222023_DR1116_0k\\Composites\\08222023_DR1116_0k_D_3__composite.tif is a low contrast image\n",
      "  skimage.io.imsave(composite_output,composite)\n",
      "C:\\Users\\14194\\AppData\\Local\\Temp\\ipykernel_23904\\332382765.py:10: UserWarning: C:\\Users\\14194\\Documents\\08222023_DR1116_0k\\Composites\\08222023_DR1116_0k_E_1__composite.tif is a low contrast image\n",
      "  skimage.io.imsave(composite_output,composite)\n",
      "C:\\Users\\14194\\AppData\\Local\\Temp\\ipykernel_23904\\332382765.py:10: UserWarning: C:\\Users\\14194\\Documents\\08222023_DR1116_0k\\Composites\\08222023_DR1116_0k_E_2__composite.tif is a low contrast image\n",
      "  skimage.io.imsave(composite_output,composite)\n",
      "C:\\Users\\14194\\AppData\\Local\\Temp\\ipykernel_23904\\332382765.py:10: UserWarning: C:\\Users\\14194\\Documents\\08222023_DR1116_0k\\Composites\\08222023_DR1116_0k_E_3__composite.tif is a low contrast image\n",
      "  skimage.io.imsave(composite_output,composite)\n",
      "C:\\Users\\14194\\AppData\\Local\\Temp\\ipykernel_23904\\332382765.py:10: UserWarning: C:\\Users\\14194\\Documents\\08222023_DR1116_0k\\Composites\\08222023_DR1116_0k_F_1__composite.tif is a low contrast image\n",
      "  skimage.io.imsave(composite_output,composite)\n",
      "C:\\Users\\14194\\AppData\\Local\\Temp\\ipykernel_23904\\332382765.py:10: UserWarning: C:\\Users\\14194\\Documents\\08222023_DR1116_0k\\Composites\\08222023_DR1116_0k_F_2__composite.tif is a low contrast image\n",
      "  skimage.io.imsave(composite_output,composite)\n",
      "C:\\Users\\14194\\AppData\\Local\\Temp\\ipykernel_23904\\332382765.py:10: UserWarning: C:\\Users\\14194\\Documents\\08222023_DR1116_0k\\Composites\\08222023_DR1116_0k_F_3__composite.tif is a low contrast image\n",
      "  skimage.io.imsave(composite_output,composite)\n",
      "C:\\Users\\14194\\AppData\\Local\\Temp\\ipykernel_23904\\332382765.py:10: UserWarning: C:\\Users\\14194\\Documents\\08222023_DR1116_0k\\Composites\\08222023_r1_0k_A_1__composite.tif is a low contrast image\n",
      "  skimage.io.imsave(composite_output,composite)\n",
      "C:\\Users\\14194\\AppData\\Local\\Temp\\ipykernel_23904\\332382765.py:10: UserWarning: C:\\Users\\14194\\Documents\\08222023_DR1116_0k\\Composites\\08222023_r1_0k_A_2__composite.tif is a low contrast image\n",
      "  skimage.io.imsave(composite_output,composite)\n",
      "C:\\Users\\14194\\AppData\\Local\\Temp\\ipykernel_23904\\332382765.py:10: UserWarning: C:\\Users\\14194\\Documents\\08222023_DR1116_0k\\Composites\\08222023_r1_0k_A_3__composite.tif is a low contrast image\n",
      "  skimage.io.imsave(composite_output,composite)\n",
      "C:\\Users\\14194\\AppData\\Local\\Temp\\ipykernel_23904\\332382765.py:10: UserWarning: C:\\Users\\14194\\Documents\\08222023_DR1116_0k\\Composites\\08222023_r1_0k_C_1__composite.tif is a low contrast image\n",
      "  skimage.io.imsave(composite_output,composite)\n",
      "C:\\Users\\14194\\AppData\\Local\\Temp\\ipykernel_23904\\332382765.py:10: UserWarning: C:\\Users\\14194\\Documents\\08222023_DR1116_0k\\Composites\\08222023_r1_0k_C_2__composite.tif is a low contrast image\n",
      "  skimage.io.imsave(composite_output,composite)\n"
     ]
    }
   ],
   "source": [
    "composite_image_folder=r'C:\\Users\\14194\\Documents\\08222023_DR1116_0k\\Composites' # save composite images, channels are [membrane, nuclei]\n",
    "# create composite images for each of what we care about\n",
    "for i in range(len(membrane_list)):\n",
    "    Membrane=io.imread(membrane_list[i])\n",
    "    Nuclei=io.imread(nuclei_list[i])\n",
    "\n",
    "    composite=np.stack((Membrane,Nuclei))\n",
    "    composite_name=os.path.basename(membrane_list[i])[:-7]+'_composite.tif'\n",
    "    composite_output=os.path.join(composite_image_folder, composite_name)\n",
    "    skimage.io.imsave(composite_output,composite)\n",
    "#save composite images \n",
    "    \n",
    "    \n",
    "    \n",
    "    # now we will create a composite list with the path of all the images we care about\n",
    "\n",
    "Composite_List=[]\n",
    "for r, d, f in os.walk(composite_image_folder):\n",
    "    for fil in f:\n",
    "        if fil.endswith('.tif'):\n",
    "            Composite_List.append(os.path.join(composite_image_folder, fil))"
   ]
  },
  {
   "cell_type": "markdown",
   "id": "e9bd4e9c-8bdc-4cfc-87af-08bcda373932",
   "metadata": {},
   "source": [
    "# Now we have the composite images, the following will iterate through the images, infer both a membrane and  nuclei mask, and save them in the corresponding folder. These are initial conditions that will be processed in the subsequent code."
   ]
  },
  {
   "cell_type": "code",
   "execution_count": 7,
   "id": "03777b35-e6aa-4599-9e24-bda4c494a49e",
   "metadata": {},
   "outputs": [],
   "source": [
    "nuclei_mask_path=r'C:\\Users\\14194\\Documents\\08222023_DR1116_0k\\Nuclei Masks' #where to save nuclei masks\n",
    "cell_mask_path=r'C:\\Users\\14194\\Documents\\08222023_DR1116_0k\\Cell Masks' #where to save cell (membrane) masks\n",
    "\n",
    "channels_cell=[1,2] #cell is the R channel, Nuclei is the G channel for cell segmentation\n",
    "channels_nuclei=[2,0] #for nuclei segmentation\n",
    "\n",
    "for i in range(len(Composite_List)):\n",
    "    model_nuclei=models.Cellpose(gpu=True,model_type='nuclei')\n",
    "    model_cell=models.Cellpose(gpu=True,model_type='cyto')\n",
    "    img=io.imread(Composite_List[i])\n",
    "\n",
    "    masks, flows, styles, diams = model_nuclei.eval(img,  channels=channels_nuclei,  diameter=9,flow_threshold=0.4,do_3D=False,min_size=15, batch_size = 16)\n",
    "    nuclei_name=os.path.basename(membrane_list[i])[:-7]+'_nuclei_mask.tif'\n",
    "    nuclei_output=os.path.join(nuclei_mask_path, nuclei_name)\n",
    "    mask=masks.astype(np.uint16)\n",
    "    skimage.io.imsave(nuclei_output,mask, check_contrast=False)\n",
    "        #nuc_masks.append(masks)\n",
    "    masks, flows, styles, diams = model_cell.eval(img,  channels=channels_cell, diameter=12,cellprob_threshold=0.0,flow_threshold=0.4, min_size=15, do_3D=False, batch_size = 16)\n",
    "    cell_name=os.path.basename(membrane_list[i])[:-7]+'_cell_mask.tif'\n",
    "    cell_output=os.path.join(cell_mask_path, cell_name)\n",
    "    mask=masks.astype(np.uint16)\n",
    "    skimage.io.imsave(cell_output,mask, check_contrast=False)"
   ]
  },
  {
   "cell_type": "markdown",
   "id": "3d1290c7-1ab0-4019-9b80-80dffb106d89",
   "metadata": {},
   "source": [
    "# Read in all the cell and Nuclei mask paths "
   ]
  },
  {
   "cell_type": "code",
   "execution_count": 8,
   "id": "5410b4db-8914-4109-b23b-569741bb2ef0",
   "metadata": {},
   "outputs": [],
   "source": [
    "Membrane_list=[]\n",
    "Nuclei_list=[]\n",
    "input_dir=r'C:\\Users\\14194\\Documents\\08222023_DR1116_0k\\Cell Masks'\n",
    "\n",
    "\n",
    "for r, d, f in os.walk(input_dir): #appending to actin list\n",
    "    for fil in f:\n",
    "        if fil.endswith('mask.tif'):\n",
    "            Membrane_list.append(os.path.join(input_dir, fil))\n",
    "        \n",
    "\n",
    "input_dir=r'C:\\Users\\14194\\Documents\\08222023_DR1116_0k\\Nuclei Masks'\n",
    "\n",
    "\n",
    "for r, d, f in os.walk(input_dir): #appending to nuclei list \n",
    "    for fil in f:\n",
    "        if fil.endswith('mask.tif'):\n",
    "            Nuclei_list.append(os.path.join(input_dir, fil))"
   ]
  },
  {
   "cell_type": "markdown",
   "id": "91c189ae-6424-440f-8cca-1a04b99f3fc4",
   "metadata": {},
   "source": [
    "# The following will \"connect\" the cell and nuclei masks\n",
    "\n",
    "1) Ensure each nuclei and cell are matched 1:1 with same pixel value\n",
    "\n",
    "2) ensure no 2 nuclei are within a cell\n",
    "\n",
    "3) ensure nuclei are not bigger than the cell\n",
    "\n",
    "4) save the connected masks in \"save_path_cell\""
   ]
  },
  {
   "cell_type": "code",
   "execution_count": 9,
   "id": "c97af095-370a-4637-9605-cb3fbe209d2c",
   "metadata": {},
   "outputs": [],
   "source": [
    "save_path_cell=r'C:\\Users\\14194\\Documents\\08222023_DR1116_0k\\connected masks'\n",
    "save_path_nuclei=save_path_cell\n",
    "#savepaths\n",
    "\n",
    "\n",
    "for i in range(len(Membrane_list)): #iterating through the image list\n",
    "    cell_image=cv2.imread(Membrane_list[i],-1);cell_name=os.path.basename(Membrane_list[i])\n",
    "    nuclei_image=cv2.imread(Nuclei_list[i],-1);Nuclei_name=os.path.basename(Nuclei_list[i])\n",
    "    pixel_list=np.unique(cell_image)[1:] # to drop pixel value of 0 \n",
    "    for index in pixel_list:\n",
    "        pixel_cell_reduced=cell_image.copy()\n",
    "        pixel_cell_reduced[cell_image!=index]=[0]\n",
    "        pixel_nuclei_reduced=nuclei_image.copy()\n",
    "        pixel_nuclei_reduced[cell_image!=index]=[0]\n",
    "        nuclei_list=np.unique(pixel_nuclei_reduced)\n",
    "        if len(nuclei_list)>=2:\n",
    "            nuclei_index=nuclei_list[-1]\n",
    "            nuclei_image[pixel_nuclei_reduced==nuclei_index]=[index]\n",
    "        else:\n",
    "            cell_image[cell_image==index]=[0]\n",
    "            for k in nuclei_list:\n",
    "                nuclei_image[nuclei_image==k]=[0]\n",
    "    #now we clear borders\n",
    "    cell_image=clear_border(cell_image)\n",
    "    \n",
    "    #stuff that is in nuclei image not in cell image are being dropped\n",
    "    droplist=np.setdiff1d(nuclei_image,cell_image)\n",
    "    for item in droplist:\n",
    "        nuclei_image[nuclei_image==item]=[0]\n",
    "    droplist=np.setdiff1d(cell_image,nuclei_image)\n",
    "    for item in droplist:\n",
    "        cell_image[cell_image==item]=[0]\n",
    "\n",
    "    cv2.imwrite(os.path.join(save_path_cell,cell_name),cell_image) #save cell mask\n",
    "    cv2.imwrite(os.path.join(save_path_nuclei,Nuclei_name),nuclei_image)# save nuclei mask "
   ]
  },
  {
   "cell_type": "markdown",
   "id": "121a2934-c450-48c7-a477-aa2a9032c356",
   "metadata": {},
   "source": [
    "# Pandas Dataframe constructor\n",
    "\n",
    "1) here we will create a dataframe with some basic parameters (this portion of the code can definitely nbe optimized)"
   ]
  },
  {
   "cell_type": "code",
   "execution_count": 10,
   "id": "0ec53744-ccdc-4fcb-9fb6-17066d493a21",
   "metadata": {},
   "outputs": [],
   "source": [
    "Membrane_list=[]\n",
    "Nuclei_list=[]\n",
    "input_dir=r'C:\\Users\\14194\\Documents\\08222023_DR1116_0k\\connected masks'\n",
    "\n",
    "\n",
    "for r, d, f in os.walk(input_dir): #appending to actin list\n",
    "    for fil in f:\n",
    "        if fil.endswith('cell_mask.tif'):\n",
    "            Membrane_list.append(os.path.join(input_dir, fil))\n",
    "        \n",
    "\n",
    "\n",
    "\n",
    "for r, d, f in os.walk(input_dir): #appending to nuclei list \n",
    "    for fil in f:\n",
    "        if fil.endswith('nuclei_mask.tif'):\n",
    "            Nuclei_list.append(os.path.join(input_dir, fil))"
   ]
  },
  {
   "cell_type": "markdown",
   "id": "eef04027-88d5-4d23-be84-80af964d1818",
   "metadata": {},
   "source": [
    "The folllowing will create a list for each parameter we want to identify"
   ]
  },
  {
   "cell_type": "code",
   "execution_count": 11,
   "id": "e4945a92-cbf0-4704-ab4e-7895a6c2893e",
   "metadata": {},
   "outputs": [],
   "source": [
    "Nuclei_File=[]\n",
    "Membrane_File=[]\n",
    "Pixel_Coordinate=[]\n",
    "Nuclear_Area=[]\n",
    "Cell_Area=[]\n",
    "N_C_Ratio=[]\n",
    "circularity = [] \n",
    "eccentricity = []\n",
    "\n",
    "for i in range(len(Membrane_list)):\n",
    "    nuclei=cv2.imread(Nuclei_list[i],-1)\n",
    "    membrane=cv2.imread(Membrane_list[i],-1)\n",
    "    for j in np.unique(nuclei)[1:]:        \n",
    "        regions = regionprops((nuclei == j).astype(int))\n",
    "        circularity.append((4*np.pi*(regions[0].area)/(regions[0].perimeter_crofton)**2))\n",
    "        eccentricity.append(regions[0].eccentricity)\n",
    "        Nuclei_File.append(os.path.basename(Nuclei_list[i])) #nuclei name of mask\n",
    "        Membrane_File.append(os.path.basename(Membrane_list[i]))#cell name of mask\n",
    "        Pixel_Coordinate.append(j) #pixel coordinate of a cell\n",
    "        Nuclear_Area.append(np.count_nonzero(nuclei == j)) # area of nuclei (how many of that pixel value are in the image array)\n",
    "        Cell_Area.append(np.count_nonzero(membrane == j)) #same as above but for cell\n",
    "        N_C_Ratio.append(np.count_nonzero(nuclei == j)/np.count_nonzero(membrane == j)) # dividing nuclei by cell area"
   ]
  },
  {
   "cell_type": "code",
   "execution_count": 12,
   "id": "23fc8bb0-8343-428e-b683-43a9404a0d51",
   "metadata": {},
   "outputs": [],
   "source": [
    "Master_Sheet=pd.DataFrame() # creating dataframe\n",
    "Master_Sheet['Nuclei_File']=Nuclei_File\n",
    "Master_Sheet['Membrane_File']=Membrane_File\n",
    "Master_Sheet['Pixel_Coordinate']=Pixel_Coordinate\n",
    "Master_Sheet['Nuclear_Area (pixels)']=Nuclear_Area\n",
    "Master_Sheet['Cell_Area (pixels)']=Cell_Area\n",
    "Master_Sheet['N:C_Ratio']=N_C_Ratio\n",
    "Master_Sheet['circ.']= circularity\n",
    "Master_Sheet[\"Eccentricity\"] = eccentricity"
   ]
  },
  {
   "cell_type": "code",
   "execution_count": 13,
   "id": "e5dc67ff-79a1-4a23-acc8-afa4ad75e389",
   "metadata": {},
   "outputs": [],
   "source": [
    "Master_Sheet[\"Bio rep\"]= Master_Sheet[\"Nuclei_File\"].apply(lambda x: str(x.split(\"_\")[:4]))"
   ]
  },
  {
   "cell_type": "code",
   "execution_count": 14,
   "id": "66fe46eb-63ee-421c-a728-967eb7f742aa",
   "metadata": {
    "tags": []
   },
   "outputs": [],
   "source": [
    "Master_Sheet[\"TechRep\"]= Master_Sheet[\"Nuclei_File\"].apply(lambda x: str(x.split(\"_\")[:5]))"
   ]
  },
  {
   "cell_type": "code",
   "execution_count": 15,
   "id": "3080f22e-9a71-4df0-aae0-4999cc472697",
   "metadata": {},
   "outputs": [],
   "source": [
    "Master_Sheet[\"strain\"]= Master_Sheet[\"Nuclei_File\"].apply(lambda x: str(x.split(\"_\")[:3]))"
   ]
  },
  {
   "cell_type": "code",
   "execution_count": null,
   "id": "f71ff520-eaf4-4610-a7d6-97c8ab69f398",
   "metadata": {
    "tags": []
   },
   "outputs": [],
   "source": []
  },
  {
   "cell_type": "code",
   "execution_count": 17,
   "id": "ca13467e-e5d5-4420-81e9-990af1a5b107",
   "metadata": {},
   "outputs": [
    {
     "name": "stderr",
     "output_type": "stream",
     "text": [
      "C:\\Users\\14194\\AppData\\Local\\Temp\\ipykernel_23904\\4205953086.py:1: FutureWarning: ['Nuclei_File', 'Membrane_File', 'Bio rep', 'strain'] did not aggregate successfully. If any error is raised this will raise in a future version of pandas. Drop these columns/ops to avoid this warning.\n",
      "  result = Master_Sheet.groupby(['TechRep']).agg(['mean','std','count'])\n"
     ]
    }
   ],
   "source": [
    "result = Master_Sheet.groupby(['TechRep']).agg(['mean','std','count'])"
   ]
  },
  {
   "cell_type": "code",
   "execution_count": 19,
   "id": "5c0dd750-af14-4446-a273-a8d26998c344",
   "metadata": {},
   "outputs": [],
   "source": [
    "Master_Sheet.to_csv(r\"\\Users\\14194\\Documents\\08222023_DR1116_0k\\08222023_DR1116_0k_master_sheet.csv\")"
   ]
  },
  {
   "cell_type": "code",
   "execution_count": 20,
   "id": "665c58ce-b465-4ce8-9a9c-5a93877185d3",
   "metadata": {},
   "outputs": [],
   "source": [
    "result.to_csv(r\"\\Users\\14194\\Documents\\08222023_DR1116_0k\\08222023_DR1116_0k_grouped_results.csv\")"
   ]
  }
 ],
 "metadata": {
  "kernelspec": {
   "display_name": "cellpose",
   "language": "python",
   "name": "cellpose"
  },
  "language_info": {
   "codemirror_mode": {
    "name": "ipython",
    "version": 3
   },
   "file_extension": ".py",
   "mimetype": "text/x-python",
   "name": "python",
   "nbconvert_exporter": "python",
   "pygments_lexer": "ipython3",
   "version": "3.8.13"
  }
 },
 "nbformat": 4,
 "nbformat_minor": 5
}
